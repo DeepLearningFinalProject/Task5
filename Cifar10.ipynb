{
 "cells": [
  {
   "cell_type": "markdown",
   "metadata": {
    "colab_type": "text",
    "id": "VWF3sOBpRPwT"
   },
   "source": [
    "Apply Autoencoder on the Cifar_10 dataset and then pass the result of Autoencoder to CNN or LSTM or three layers model to classify data\n",
    "\n",
    "a.\tRepeat the same thing with PCA (apply PCA on the dataset and then pass the result to CNN or LSTM or three layers model)\n",
    "\n",
    "b.\tCompare the result of both approach\n"
   ]
  },
  {
   "cell_type": "markdown",
   "metadata": {
    "colab_type": "text",
    "id": "HV-72jxmRXns"
   },
   "source": [
    "**AutoEncoder+CNN**"
   ]
  },
  {
   "cell_type": "code",
   "execution_count": 1,
   "metadata": {
    "colab": {
     "base_uri": "https://localhost:8080/",
     "height": 34
    },
    "colab_type": "code",
    "id": "oeBVNKbkZd5a",
    "outputId": "31fba5bf-9e5d-4384-b22b-73fddba5d2aa"
   },
   "outputs": [
    {
     "name": "stderr",
     "output_type": "stream",
     "text": [
      "C:\\Users\\harik\\anaconda3\\lib\\site-packages\\tensorflow\\python\\framework\\dtypes.py:516: FutureWarning: Passing (type, 1) or '1type' as a synonym of type is deprecated; in a future version of numpy, it will be understood as (type, (1,)) / '(1,)type'.\n",
      "  _np_qint8 = np.dtype([(\"qint8\", np.int8, 1)])\n",
      "C:\\Users\\harik\\anaconda3\\lib\\site-packages\\tensorflow\\python\\framework\\dtypes.py:517: FutureWarning: Passing (type, 1) or '1type' as a synonym of type is deprecated; in a future version of numpy, it will be understood as (type, (1,)) / '(1,)type'.\n",
      "  _np_quint8 = np.dtype([(\"quint8\", np.uint8, 1)])\n",
      "C:\\Users\\harik\\anaconda3\\lib\\site-packages\\tensorflow\\python\\framework\\dtypes.py:518: FutureWarning: Passing (type, 1) or '1type' as a synonym of type is deprecated; in a future version of numpy, it will be understood as (type, (1,)) / '(1,)type'.\n",
      "  _np_qint16 = np.dtype([(\"qint16\", np.int16, 1)])\n",
      "C:\\Users\\harik\\anaconda3\\lib\\site-packages\\tensorflow\\python\\framework\\dtypes.py:519: FutureWarning: Passing (type, 1) or '1type' as a synonym of type is deprecated; in a future version of numpy, it will be understood as (type, (1,)) / '(1,)type'.\n",
      "  _np_quint16 = np.dtype([(\"quint16\", np.uint16, 1)])\n",
      "C:\\Users\\harik\\anaconda3\\lib\\site-packages\\tensorflow\\python\\framework\\dtypes.py:520: FutureWarning: Passing (type, 1) or '1type' as a synonym of type is deprecated; in a future version of numpy, it will be understood as (type, (1,)) / '(1,)type'.\n",
      "  _np_qint32 = np.dtype([(\"qint32\", np.int32, 1)])\n",
      "C:\\Users\\harik\\anaconda3\\lib\\site-packages\\tensorflow\\python\\framework\\dtypes.py:525: FutureWarning: Passing (type, 1) or '1type' as a synonym of type is deprecated; in a future version of numpy, it will be understood as (type, (1,)) / '(1,)type'.\n",
      "  np_resource = np.dtype([(\"resource\", np.ubyte, 1)])\n",
      "C:\\Users\\harik\\anaconda3\\lib\\site-packages\\tensorboard\\compat\\tensorflow_stub\\dtypes.py:541: FutureWarning: Passing (type, 1) or '1type' as a synonym of type is deprecated; in a future version of numpy, it will be understood as (type, (1,)) / '(1,)type'.\n",
      "  _np_qint8 = np.dtype([(\"qint8\", np.int8, 1)])\n",
      "C:\\Users\\harik\\anaconda3\\lib\\site-packages\\tensorboard\\compat\\tensorflow_stub\\dtypes.py:542: FutureWarning: Passing (type, 1) or '1type' as a synonym of type is deprecated; in a future version of numpy, it will be understood as (type, (1,)) / '(1,)type'.\n",
      "  _np_quint8 = np.dtype([(\"quint8\", np.uint8, 1)])\n",
      "C:\\Users\\harik\\anaconda3\\lib\\site-packages\\tensorboard\\compat\\tensorflow_stub\\dtypes.py:543: FutureWarning: Passing (type, 1) or '1type' as a synonym of type is deprecated; in a future version of numpy, it will be understood as (type, (1,)) / '(1,)type'.\n",
      "  _np_qint16 = np.dtype([(\"qint16\", np.int16, 1)])\n",
      "C:\\Users\\harik\\anaconda3\\lib\\site-packages\\tensorboard\\compat\\tensorflow_stub\\dtypes.py:544: FutureWarning: Passing (type, 1) or '1type' as a synonym of type is deprecated; in a future version of numpy, it will be understood as (type, (1,)) / '(1,)type'.\n",
      "  _np_quint16 = np.dtype([(\"quint16\", np.uint16, 1)])\n",
      "C:\\Users\\harik\\anaconda3\\lib\\site-packages\\tensorboard\\compat\\tensorflow_stub\\dtypes.py:545: FutureWarning: Passing (type, 1) or '1type' as a synonym of type is deprecated; in a future version of numpy, it will be understood as (type, (1,)) / '(1,)type'.\n",
      "  _np_qint32 = np.dtype([(\"qint32\", np.int32, 1)])\n",
      "C:\\Users\\harik\\anaconda3\\lib\\site-packages\\tensorboard\\compat\\tensorflow_stub\\dtypes.py:550: FutureWarning: Passing (type, 1) or '1type' as a synonym of type is deprecated; in a future version of numpy, it will be understood as (type, (1,)) / '(1,)type'.\n",
      "  np_resource = np.dtype([(\"resource\", np.ubyte, 1)])\n",
      "Using TensorFlow backend.\n"
     ]
    }
   ],
   "source": [
    "import numpy as np\n",
    "import pandas as pd\n",
    "\n",
    "import matplotlib.pyplot as plt\n",
    "\n",
    "from time import time\n",
    "from random import randint\n",
    "\n",
    "from sklearn.decomposition import PCA\n",
    "from sklearn.preprocessing import StandardScaler\n",
    "\n",
    "import tensorflow as tf\n",
    "from tensorflow import keras\n",
    "from tensorflow.keras import datasets, layers, models\n",
    "from tensorflow.keras.models import load_model\n",
    "\n",
    "from keras import regularizers\n",
    "from keras import backend as K\n",
    "\n",
    "from keras.datasets import cifar10\n",
    "from keras.utils import np_utils\n",
    "from keras.constraints import maxnorm\n",
    "from keras.layers import Dense, Input\n",
    "from keras.layers import Dropout\n",
    "from keras.layers import Flatten\n",
    "from keras.optimizers import SGD\n",
    "from keras.models import Model\n",
    "from keras.callbacks import TensorBoard"
   ]
  },
  {
   "cell_type": "code",
   "execution_count": 2,
   "metadata": {
    "colab": {},
    "colab_type": "code",
    "id": "Oui44Ztdbr4I"
   },
   "outputs": [],
   "source": [
    "(x_train, y_train), (x_test, y_test) = cifar10.load_data() # loading data into dataframe"
   ]
  },
  {
   "cell_type": "code",
   "execution_count": 3,
   "metadata": {
    "colab": {},
    "colab_type": "code",
    "id": "w7I6lr3Eb1x2"
   },
   "outputs": [],
   "source": [
    "x_train = x_train.reshape(50000,3,32,32).transpose(0,2,3,1).astype(\"uint8\") #uint8-data type contains all whole numbers from 0 to 255\n",
    "x_test = x_test.reshape(10000,3,32,32).transpose(0,2,3,1).astype(\"uint8\") #uint8-data type contains all whole numbers from 0 to 255"
   ]
  },
  {
   "cell_type": "code",
   "execution_count": 4,
   "metadata": {
    "colab": {
     "base_uri": "https://localhost:8080/",
     "height": 51
    },
    "colab_type": "code",
    "id": "jtsqmvfFb4Z-",
    "outputId": "45fb183a-f3c2-4bac-c356-444f383c2787"
   },
   "outputs": [
    {
     "name": "stdout",
     "output_type": "stream",
     "text": [
      "(50000, 3072)\n",
      "(10000, 3072)\n"
     ]
    }
   ],
   "source": [
    "x_train = x_train.astype('uint8') / 255. # Scaling inputs from 0-255 to 0.0-1.0\n",
    "x_test = x_test.astype('uint8') / 255. # Scaling inputs from 0-255 to 0.0-1.0\n",
    "x_train = x_train.reshape((len(x_train), np.prod(x_train.shape[1:]))) #flatten 32x32 images into vectors of size 3072\n",
    "x_test = x_test.reshape((len(x_test), np.prod(x_test.shape[1:]))) #flatten 32x32 images into vectors of size 3072\n",
    "print(x_train.shape)\n",
    "print(x_test.shape)"
   ]
  },
  {
   "cell_type": "code",
   "execution_count": 5,
   "metadata": {
    "colab": {
     "base_uri": "https://localhost:8080/",
     "height": 34
    },
    "colab_type": "code",
    "id": "XEHVKZQScCYl",
    "outputId": "304a521d-fe9d-400d-84a1-116db33979d5"
   },
   "outputs": [
    {
     "data": {
      "text/plain": [
       "10"
      ]
     },
     "execution_count": 5,
     "metadata": {},
     "output_type": "execute_result"
    }
   ],
   "source": [
    "# one hot encoding on target labels\n",
    "y_train = np_utils.to_categorical(y_train)\n",
    "y_test = np_utils.to_categorical(y_test)\n",
    "num_classes = y_test.shape[1]\n",
    "num_classes"
   ]
  },
  {
   "cell_type": "code",
   "execution_count": 6,
   "metadata": {
    "colab": {},
    "colab_type": "code",
    "id": "NQnmtWKwa1N9"
   },
   "outputs": [
    {
     "name": "stdout",
     "output_type": "stream",
     "text": [
      "WARNING:tensorflow:From C:\\Users\\harik\\anaconda3\\lib\\site-packages\\tensorflow\\python\\ops\\nn_impl.py:180: add_dispatch_support.<locals>.wrapper (from tensorflow.python.ops.array_ops) is deprecated and will be removed in a future version.\n",
      "Instructions for updating:\n",
      "Use tf.where in 2.0, which has the same broadcast rule as np.where\n"
     ]
    }
   ],
   "source": [
    "j = randint(0,10000)\n",
    "\n",
    "# Single fully-connected neural layer as encoder and decoder\n",
    "\n",
    "encoding_dim = 128  # 128 floats -> compression of 24 for each Neuron, as the input shape is 3072\n",
    "input_img = Input(shape=(3072,)) #Input shape is 3072 from X_train.shape, X_test.shape\n",
    "encoded = Dense(encoding_dim, activation='relu')(input_img) # 128 Neurons for encoded representations\n",
    "decoded = Dense(3072, activation='sigmoid')(encoded) #Output & Input Neurons should be same as Mirror image\n",
    "autoencoder = Model(input_img, decoded) #maps an input to its reconstruction\n",
    "encoder = Model(input_img, encoded) #maps an input to its encoded representation\n",
    "\n",
    "# Decoder Model\n",
    "encoded_input = Input(shape=(encoding_dim,)) # create a placeholder for an encoded (32-dimensional) input\n",
    "decoder_layer = autoencoder.layers[-1] # retrieve the last layer of the autoencoder model\n",
    "decoder = Model(encoded_input, decoder_layer(encoded_input)) # create the decoder model\n",
    "\n",
    "autoencoder.compile(optimizer='adadelta', loss='binary_crossentropy', metrics=['accuracy']) # Autoencoder model configuration"
   ]
  },
  {
   "cell_type": "code",
   "execution_count": 7,
   "metadata": {
    "colab": {
     "base_uri": "https://localhost:8080/",
     "height": 136
    },
    "colab_type": "code",
    "id": "5HRiAUX7cOkb",
    "outputId": "74f9a4a6-bcde-4426-ac35-ea681ba9b87c"
   },
   "outputs": [
    {
     "name": "stdout",
     "output_type": "stream",
     "text": [
      "WARNING:tensorflow:From C:\\Users\\harik\\anaconda3\\lib\\site-packages\\keras\\backend\\tensorflow_backend.py:422: The name tf.global_variables is deprecated. Please use tf.compat.v1.global_variables instead.\n",
      "\n",
      "Train on 50000 samples, validate on 10000 samples\n",
      "WARNING:tensorflow:From C:\\Users\\harik\\anaconda3\\lib\\site-packages\\keras\\callbacks\\tensorboard_v1.py:200: The name tf.summary.merge_all is deprecated. Please use tf.compat.v1.summary.merge_all instead.\n",
      "\n",
      "WARNING:tensorflow:From C:\\Users\\harik\\anaconda3\\lib\\site-packages\\keras\\callbacks\\tensorboard_v1.py:203: The name tf.summary.FileWriter is deprecated. Please use tf.compat.v1.summary.FileWriter instead.\n",
      "\n",
      "Epoch 1/3\n",
      "50000/50000 [==============================] - 39s 789us/step - loss: 0.6926 - accuracy: 0.0067 - val_loss: 0.6911 - val_accuracy: 0.0074\n",
      "WARNING:tensorflow:From C:\\Users\\harik\\anaconda3\\lib\\site-packages\\keras\\callbacks\\tensorboard_v1.py:343: The name tf.Summary is deprecated. Please use tf.compat.v1.Summary instead.\n",
      "\n",
      "Epoch 2/3\n",
      "50000/50000 [==============================] - 37s 746us/step - loss: 0.6868 - accuracy: 0.0083 - val_loss: 0.6813 - val_accuracy: 0.0090\n",
      "Epoch 3/3\n",
      "50000/50000 [==============================] - 37s 746us/step - loss: 0.6772 - accuracy: 0.0093 - val_loss: 0.6732 - val_accuracy: 0.0096\n"
     ]
    }
   ],
   "source": [
    "tensorboard = TensorBoard(log_dir='2', histogram_freq=0, write_graph=True, write_images=False)\n",
    "history = autoencoder.fit(x_train, x_train, epochs=3, batch_size=256, shuffle=True, validation_data=(x_test, x_test), callbacks=[tensorboard])"
   ]
  },
  {
   "cell_type": "code",
   "execution_count": 8,
   "metadata": {
    "colab": {},
    "colab_type": "code",
    "id": "GEpseAFycSNH"
   },
   "outputs": [],
   "source": [
    "# reconstructed inputs and encoded representations\n",
    "\n",
    "# encode and decode on test data\n",
    "encoded_imgs = encoder.predict(x_test)\n",
    "decoded_imgs = decoder.predict(encoded_imgs)"
   ]
  },
  {
   "cell_type": "markdown",
   "metadata": {
    "colab_type": "text",
    "id": "xD_diJN1hpAk"
   },
   "source": [
    "**Autoencoder output for CNN**"
   ]
  },
  {
   "cell_type": "code",
   "execution_count": 9,
   "metadata": {
    "colab": {},
    "colab_type": "code",
    "id": "-y5dVQ7hhTZd"
   },
   "outputs": [],
   "source": [
    "x_train2 = x_train\n",
    "\n",
    "for i in range(0, 50000):\n",
    "  prediction = autoencoder.predict(x_train[i].reshape(1,3072))\n",
    "  x_train2[i] = prediction"
   ]
  },
  {
   "cell_type": "code",
   "execution_count": 10,
   "metadata": {
    "colab": {},
    "colab_type": "code",
    "id": "VtF9fnEphvlR"
   },
   "outputs": [],
   "source": [
    "x_test2 = x_test.copy()\n",
    "\n",
    "for i in range(0, 10000):\n",
    "  prediction = autoencoder.predict(x_test[i].reshape(1,3072))\n",
    "  x_test2[i] = prediction"
   ]
  },
  {
   "cell_type": "code",
   "execution_count": 11,
   "metadata": {
    "colab": {
     "base_uri": "https://localhost:8080/",
     "height": 34
    },
    "colab_type": "code",
    "id": "CgojnuAJhye1",
    "outputId": "e8ac9307-931c-48d2-fca3-bc066f5e3a66"
   },
   "outputs": [
    {
     "data": {
      "text/plain": [
       "(10000, 32, 32, 3)"
      ]
     },
     "execution_count": 11,
     "metadata": {},
     "output_type": "execute_result"
    }
   ],
   "source": [
    "# Change input shape from (,3072) to (,32,32,3)\n",
    "\n",
    "x_train2 = np.array(x_train2).reshape([-1, 32, 32, 3]) \n",
    "x_train2.shape\n",
    "\n",
    "x_test2 = np.array(x_test2).reshape([-1, 32, 32, 3]) \n",
    "x_test2.shape"
   ]
  },
  {
   "cell_type": "code",
   "execution_count": 12,
   "metadata": {
    "colab": {
     "base_uri": "https://localhost:8080/",
     "height": 266
    },
    "colab_type": "code",
    "id": "fL1v_qn3iKk0",
    "outputId": "ab9a1087-46ef-4e09-f7da-e0f84603f842"
   },
   "outputs": [
    {
     "data": {
      "image/png": "[encoded data removed]",
      "text/plain": [
       "<Figure size 432x288 with 1 Axes>"
      ]
     },
     "metadata": {
      "needs_background": "light"
     },
     "output_type": "display_data"
    }
   ],
   "source": [
    "# result of autoencoder on a random image from test dataset\n",
    "\n",
    "# original Image\n",
    "plt.imshow(x_test[j].reshape(32,32,3))\n",
    "plt.show()"
   ]
  },
  {
   "cell_type": "code",
   "execution_count": 13,
   "metadata": {
    "colab": {
     "base_uri": "https://localhost:8080/",
     "height": 266
    },
    "colab_type": "code",
    "id": "H5I9vNA-iVqH",
    "outputId": "99f731c8-5238-4f96-991c-8ec16d3f809c"
   },
   "outputs": [
    {
     "data": {
      "image/png": "[encoded data removed]",
      "text/plain": [
       "<Figure size 432x288 with 1 Axes>"
      ]
     },
     "metadata": {
      "needs_background": "light"
     },
     "output_type": "display_data"
    }
   ],
   "source": [
    "# reconstruction Image\n",
    "plt.imshow(x_test2[j].reshape(32,32,3))\n",
    "plt.show()"
   ]
  },
  {
   "cell_type": "code",
   "execution_count": 14,
   "metadata": {
    "colab": {
     "base_uri": "https://localhost:8080/",
     "height": 295
    },
    "colab_type": "code",
    "id": "2nKvNzmAiacZ",
    "outputId": "b99038da-5eb3-4777-88cc-f435231fbbd7"
   },
   "outputs": [
    {
     "data": {
      "image/png": "[encoded data removed]",
      "text/plain": [
       "<Figure size 432x288 with 1 Axes>"
      ]
     },
     "metadata": {
      "needs_background": "light"
     },
     "output_type": "display_data"
    }
   ],
   "source": [
    "#history graph for accuracy\n",
    "plt.plot(history.history['accuracy'])\n",
    "plt.plot(history.history['val_accuracy'])\n",
    "plt.title('model accuracy')\n",
    "plt.ylabel('accuracy')\n",
    "plt.xlabel('epoch')\n",
    "plt.legend(['train', 'test'], loc='upper left')\n",
    "plt.show()"
   ]
  },
  {
   "cell_type": "code",
   "execution_count": 15,
   "metadata": {
    "colab": {
     "base_uri": "https://localhost:8080/",
     "height": 295
    },
    "colab_type": "code",
    "id": "E4yXfXKajlm8",
    "outputId": "df14f3f7-7d36-41ab-d3d1-5febfba0c6bc"
   },
   "outputs": [
    {
     "data": {
      "image/png": "[encoded data removed]",
      "text/plain": [
       "<Figure size 432x288 with 1 Axes>"
      ]
     },
     "metadata": {
      "needs_background": "light"
     },
     "output_type": "display_data"
    }
   ],
   "source": [
    "# history graph for loss\n",
    "plt.plot(history.history['loss'])\n",
    "plt.plot(history.history['val_loss'])\n",
    "plt.title('model loss')\n",
    "plt.ylabel('loss')\n",
    "plt.xlabel('epoch')\n",
    "plt.legend(['train', 'test'], loc='upper left')\n",
    "plt.show()"
   ]
  },
  {
   "cell_type": "markdown",
   "metadata": {
    "colab_type": "text",
    "id": "hEiOW70rjsBh"
   },
   "source": [
    "**Applying CNN on AutoEncoded Data**"
   ]
  },
  {
   "cell_type": "code",
   "execution_count": 16,
   "metadata": {
    "colab": {
     "base_uri": "https://localhost:8080/",
     "height": 425
    },
    "colab_type": "code",
    "id": "EeBHF-ymjpZH",
    "outputId": "90e699cb-f79e-4b63-f043-9f9c929d4150"
   },
   "outputs": [
    {
     "name": "stdout",
     "output_type": "stream",
     "text": [
      "WARNING:tensorflow:From C:\\Users\\harik\\anaconda3\\lib\\site-packages\\tensorflow\\python\\ops\\init_ops.py:1251: calling VarianceScaling.__init__ (from tensorflow.python.ops.init_ops) with dtype is deprecated and will be removed in a future version.\n",
      "Instructions for updating:\n",
      "Call initializer instance with the dtype argument instead of passing it to the constructor\n",
      "Model: \"sequential\"\n",
      "_________________________________________________________________\n",
      "Layer (type)                 Output Shape              Param #   \n",
      "=================================================================\n",
      "conv2d (Conv2D)              (None, 32, 32, 32)        896       \n",
      "_________________________________________________________________\n",
      "dropout (Dropout)            (None, 32, 32, 32)        0         \n",
      "_________________________________________________________________\n",
      "conv2d_1 (Conv2D)            (None, 32, 32, 32)        9248      \n",
      "_________________________________________________________________\n",
      "max_pooling2d (MaxPooling2D) (None, 16, 16, 32)        0         \n",
      "_________________________________________________________________\n",
      "flatten (Flatten)            (None, 8192)              0         \n",
      "_________________________________________________________________\n",
      "dense (Dense)                (None, 512)               4194816   \n",
      "_________________________________________________________________\n",
      "dropout_1 (Dropout)          (None, 512)               0         \n",
      "_________________________________________________________________\n",
      "dense_1 (Dense)              (None, 10)                5130      \n",
      "=================================================================\n",
      "Total params: 4,210,090\n",
      "Trainable params: 4,210,090\n",
      "Non-trainable params: 0\n",
      "_________________________________________________________________\n"
     ]
    }
   ],
   "source": [
    "model = models.Sequential() #Sequential Neural Network\n",
    "model.add(layers.Conv2D(32, (3, 3), padding='same', activation='relu', input_shape=(32,32,3), kernel_constraint=maxnorm(3))) #2D convolutinal model\n",
    "model.add(layers.Dropout(0.2)) #Dropout 20%\n",
    "model.add(layers.Conv2D(32, (3, 3), activation='relu', padding='same', kernel_constraint=maxnorm(3)))\n",
    "model.add(layers.MaxPooling2D(pool_size=(2, 2))) #Max pool of size (2*2)\n",
    "model.add(layers.Flatten())\n",
    "model.add(layers.Dense(512, activation='relu', kernel_constraint=maxnorm(3)))\n",
    "model.add(layers.Dropout(0.5)) #drop out of 50%\n",
    "model.add(layers.Dense(num_classes, activation='softmax')) #10 Output Neurons\n",
    "model.summary()"
   ]
  },
  {
   "cell_type": "code",
   "execution_count": 17,
   "metadata": {
    "colab": {},
    "colab_type": "code",
    "id": "xAN6aRGZj0gH"
   },
   "outputs": [],
   "source": [
    "epochs = 5\n",
    "lrate = 0.01\n",
    "decay = lrate/epochs\n",
    "sgd = keras.optimizers.SGD(lr=lrate, momentum=0.9, decay=decay, nesterov=False)\n",
    "model.compile(loss='categorical_crossentropy', optimizer=sgd, metrics=['accuracy']) # Compiling model"
   ]
  },
  {
   "cell_type": "code",
   "execution_count": 18,
   "metadata": {
    "colab": {
     "base_uri": "https://localhost:8080/",
     "height": 255
    },
    "colab_type": "code",
    "id": "NCyvKkrsj1jL",
    "outputId": "4bce8a3d-5aaf-4aeb-e89d-c4abdb72129e"
   },
   "outputs": [
    {
     "name": "stdout",
     "output_type": "stream",
     "text": [
      "Train on 50000 samples, validate on 10000 samples\n",
      "Epoch 1/5\n",
      "50000/50000 [==============================] - 538s 11ms/sample - loss: 2.2113 - acc: 0.1569 - val_loss: 2.1906 - val_acc: 0.1747\n",
      "Epoch 2/5\n",
      "50000/50000 [==============================] - 329s 7ms/sample - loss: 2.1808 - acc: 0.1769 - val_loss: 2.1658 - val_acc: 0.1936\n",
      "Epoch 3/5\n",
      "50000/50000 [==============================] - 316s 6ms/sample - loss: 2.1549 - acc: 0.1940 - val_loss: 2.1471 - val_acc: 0.1994\n",
      "Epoch 4/5\n",
      "50000/50000 [==============================] - 354s 7ms/sample - loss: 2.1346 - acc: 0.2061 - val_loss: 2.1118 - val_acc: 0.2196\n",
      "Epoch 5/5\n",
      "50000/50000 [==============================] - 314s 6ms/sample - loss: 2.1128 - acc: 0.2172 - val_loss: 2.0834 - val_acc: 0.2343\n"
     ]
    }
   ],
   "source": [
    "historynew = model.fit(x_train2, y_train, validation_data=(x_test2, y_test), epochs=epochs, batch_size=32) # Fitting the model"
   ]
  },
  {
   "cell_type": "code",
   "execution_count": 19,
   "metadata": {
    "colab": {
     "base_uri": "https://localhost:8080/",
     "height": 34
    },
    "colab_type": "code",
    "id": "SH-w9kd5j4yP",
    "outputId": "c2beae76-bf38-4bf4-c974-b26f68e0d143"
   },
   "outputs": [
    {
     "name": "stdout",
     "output_type": "stream",
     "text": [
      "Accuracy: 23.43%\n"
     ]
    }
   ],
   "source": [
    "# Accuracy score\n",
    "scores = model.evaluate(x_test2, y_test, verbose=0)\n",
    "print(\"Accuracy: %.2f%%\" % (scores[1]*100))"
   ]
  },
  {
   "cell_type": "markdown",
   "metadata": {
    "colab_type": "text",
    "id": "piTkTCsEffjk"
   },
   "source": [
    "**a.\tRepeat the same thing with PCA (apply PCA on the dataset and then pass the result to CNN or LSTM or three layers model)**"
   ]
  },
  {
   "cell_type": "markdown",
   "metadata": {
    "colab_type": "text",
    "id": "8CaN2cqBhhLr"
   },
   "source": [
    "**PCA+CNN**"
   ]
  },
  {
   "cell_type": "code",
   "execution_count": 20,
   "metadata": {
    "colab": {
     "base_uri": "https://localhost:8080/",
     "height": 51
    },
    "colab_type": "code",
    "id": "e-Bvsh2qNzQC",
    "outputId": "8b4625dd-410d-4236-aef0-57f55a0fcb78"
   },
   "outputs": [
    {
     "name": "stdout",
     "output_type": "stream",
     "text": [
      "(50000, 3072)\n",
      "(10000, 3072)\n"
     ]
    }
   ],
   "source": [
    "x_train = x_train.reshape(-1, 3072)\n",
    "x_test = x_test.reshape(-1, 3072)\n",
    "print(x_train.shape)\n",
    "print(x_test.shape)"
   ]
  },
  {
   "cell_type": "code",
   "execution_count": 21,
   "metadata": {
    "colab": {},
    "colab_type": "code",
    "id": "C--CqUXrQiU5"
   },
   "outputs": [],
   "source": [
    "# Apply standard scaler to data\n",
    "standardscaler = StandardScaler()"
   ]
  },
  {
   "cell_type": "code",
   "execution_count": null,
   "metadata": {
    "colab": {
     "base_uri": "https://localhost:8080/",
     "height": 34
    },
    "colab_type": "code",
    "id": "tLGwkoS6QqfC",
    "outputId": "9c1b8fc0-7884-4dd9-e6d6-9de119b702f6"
   },
   "outputs": [],
   "source": [
    "#PCA\n",
    "\n",
    "pca = PCA()\n",
    "pca.fit(x_train)\n",
    "pca.n_components_\n",
    "pca.explained_variance_\n",
    "pca.explained_variance_.shape"
   ]
  },
  {
   "cell_type": "code",
   "execution_count": null,
   "metadata": {
    "colab": {},
    "colab_type": "code",
    "id": "XQa5zDlrQ_rT"
   },
   "outputs": [],
   "source": [
    "x_train_pca = pca.transform(x_train)\n",
    "x_test_pca = pca.transform(x_test)"
   ]
  },
  {
   "cell_type": "code",
   "execution_count": null,
   "metadata": {
    "colab": {
     "base_uri": "https://localhost:8080/",
     "height": 51
    },
    "colab_type": "code",
    "id": "KUcnBnUZRAnz",
    "outputId": "76813648-392e-4dca-e77f-7c5dee54c952"
   },
   "outputs": [
    {
     "name": "stdout",
     "output_type": "stream",
     "text": [
      "(50000, 32, 32, 3)\n",
      "(10000, 32, 32, 3)\n"
     ]
    }
   ],
   "source": [
    "x_train_pca = x_train_pca.reshape(-1, 32,32,3)\n",
    "x_test_pca = x_test_pca.reshape(-1, 32,32,3)\n",
    "print(x_train_pca.shape)\n",
    "print(x_test_pca.shape)"
   ]
  },
  {
   "cell_type": "code",
   "execution_count": null,
   "metadata": {
    "colab": {
     "base_uri": "https://localhost:8080/",
     "height": 425
    },
    "colab_type": "code",
    "id": "7PO2W7-oRJ-6",
    "outputId": "b4dc6c85-cee5-45f9-9800-0cc3ca3af49d"
   },
   "outputs": [
    {
     "name": "stdout",
     "output_type": "stream",
     "text": [
      "Model: \"sequential_1\"\n",
      "_________________________________________________________________\n",
      "Layer (type)                 Output Shape              Param #   \n",
      "=================================================================\n",
      "conv2d_2 (Conv2D)            (None, 32, 32, 32)        896       \n",
      "_________________________________________________________________\n",
      "dropout_2 (Dropout)          (None, 32, 32, 32)        0         \n",
      "_________________________________________________________________\n",
      "conv2d_3 (Conv2D)            (None, 32, 32, 32)        9248      \n",
      "_________________________________________________________________\n",
      "max_pooling2d_1 (MaxPooling2 (None, 16, 16, 32)        0         \n",
      "_________________________________________________________________\n",
      "flatten_1 (Flatten)          (None, 8192)              0         \n",
      "_________________________________________________________________\n",
      "dense_2 (Dense)              (None, 512)               4194816   \n",
      "_________________________________________________________________\n",
      "dropout_3 (Dropout)          (None, 512)               0         \n",
      "_________________________________________________________________\n",
      "dense_3 (Dense)              (None, 10)                5130      \n",
      "=================================================================\n",
      "Total params: 4,210,090\n",
      "Trainable params: 4,210,090\n",
      "Non-trainable params: 0\n",
      "_________________________________________________________________\n"
     ]
    }
   ],
   "source": [
    "model1 = models.Sequential() #Sequential Neural Network\n",
    "model1.add(layers.Conv2D(32, (3, 3), padding='same', activation='relu', input_shape=(32,32,3), kernel_constraint=maxnorm(3))) #2D convolutinal model\n",
    "model1.add(layers.Dropout(0.2)) #Dropout 20%\n",
    "model1.add(layers.Conv2D(32, (3, 3), activation='relu', padding='same', kernel_constraint=maxnorm(3)))\n",
    "model1.add(layers.MaxPooling2D(pool_size=(2, 2)))\n",
    "model1.add(layers.Flatten())\n",
    "model1.add(layers.Dense(512, activation='relu', kernel_constraint=maxnorm(3)))\n",
    "model1.add(layers.Dropout(0.5)) #Dropout 50%\n",
    "model1.add(layers.Dense(num_classes, activation='softmax'))  #10 Output Neurons\n",
    "model1.summary()"
   ]
  },
  {
   "cell_type": "code",
   "execution_count": null,
   "metadata": {
    "colab": {},
    "colab_type": "code",
    "id": "tJSmbAxLRQoq"
   },
   "outputs": [],
   "source": [
    "epochs = 3\n",
    "lrate = 0.01\n",
    "decay = lrate/epochs\n",
    "sgd = keras.optimizers.SGD(lr=lrate, momentum=0.9, decay=decay, nesterov=False)\n",
    "model1.compile(loss='categorical_crossentropy', optimizer=sgd, metrics=['accuracy']) #Compiling Model"
   ]
  },
  {
   "cell_type": "code",
   "execution_count": null,
   "metadata": {
    "colab": {
     "base_uri": "https://localhost:8080/",
     "height": 119
    },
    "colab_type": "code",
    "id": "7ISUvAmXRVGA",
    "outputId": "40f43a67-6601-426b-9c24-746f1cf41783"
   },
   "outputs": [
    {
     "name": "stdout",
     "output_type": "stream",
     "text": [
      "Epoch 1/3\n",
      "1563/1563 [==============================] - 231s 148ms/step - loss: 2.1792 - accuracy: 0.1759 - val_loss: 2.1620 - val_accuracy: 0.1745\n",
      "Epoch 2/3\n",
      "1563/1563 [==============================] - 233s 149ms/step - loss: 2.1062 - accuracy: 0.2060 - val_loss: 2.1936 - val_accuracy: 0.1908\n",
      "Epoch 3/3\n",
      "1563/1563 [==============================] - 231s 148ms/step - loss: 2.0708 - accuracy: 0.2228 - val_loss: 2.2495 - val_accuracy: 0.1950\n"
     ]
    }
   ],
   "source": [
    "history1 = model1.fit(x_train_pca, y_train, validation_data=(x_test_pca, y_test), epochs=epochs, batch_size=32) #Fitting The model"
   ]
  },
  {
   "cell_type": "code",
   "execution_count": null,
   "metadata": {
    "colab": {
     "base_uri": "https://localhost:8080/",
     "height": 34
    },
    "colab_type": "code",
    "id": "nngrTOm8Rkxd",
    "outputId": "dd0058c8-af4e-4450-fdf4-e7a85b30b67b"
   },
   "outputs": [
    {
     "name": "stdout",
     "output_type": "stream",
     "text": [
      "Accuracy: 19.50%\n"
     ]
    }
   ],
   "source": [
    "# Accuracy score\n",
    "scores = model1.evaluate(x_test_pca, y_test, verbose=0)\n",
    "print(\"Accuracy: %.2f%%\" % (scores[1]*100))"
   ]
  },
  {
   "cell_type": "markdown",
   "metadata": {
    "colab_type": "text",
    "id": "6ZodhNYbfQt5"
   },
   "source": [
    "**b.\tCompare the result of both approach**"
   ]
  },
  {
   "cell_type": "code",
   "execution_count": null,
   "metadata": {
    "colab": {
     "base_uri": "https://localhost:8080/",
     "height": 51
    },
    "colab_type": "code",
    "id": "9A4q6Y8re7bI",
    "outputId": "dd718b69-3e68-4204-973e-1ae521c5b9a2"
   },
   "outputs": [
    {
     "name": "stdout",
     "output_type": "stream",
     "text": [
      "Accuracy for AutoEncoding + CNN: 18.51%\n",
      "Accuracy for PCA + CNN: 19.50%\n"
     ]
    }
   ],
   "source": [
    "scores = model.evaluate(x_test2, y_test, verbose=0)\n",
    "print(\"Accuracy for AutoEncoding + CNN: %.2f%%\" % (scores[1]*100))\n",
    "\n",
    "scores = model1.evaluate(x_test_pca, y_test, verbose=0)\n",
    "print(\"Accuracy for PCA + CNN: %.2f%%\" % (scores[1]*100))"
   ]
  }
 ],
 "metadata": {
  "colab": {
   "collapsed_sections": [],
   "name": "Cifar10.ipynb",
   "provenance": []
  },
  "kernelspec": {
   "display_name": "Python 3",
   "language": "python",
   "name": "python3"
  },
  "language_info": {
   "codemirror_mode": {
    "name": "ipython",
    "version": 3
   },
   "file_extension": ".py",
   "mimetype": "text/x-python",
   "name": "python",
   "nbconvert_exporter": "python",
   "pygments_lexer": "ipython3",
   "version": "3.7.6"
  }
 },
 "nbformat": 4,
 "nbformat_minor": 1
}
